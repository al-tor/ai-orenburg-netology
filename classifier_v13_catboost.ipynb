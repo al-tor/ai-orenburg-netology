{
  "nbformat": 4,
  "nbformat_minor": 0,
  "metadata": {
    "colab": {
      "name": "classifier_v13_catboost.ipynb",
      "provenance": [],
      "collapsed_sections": []
    },
    "kernelspec": {
      "name": "python3",
      "display_name": "Python 3"
    },
    "language_info": {
      "name": "python"
    },
    "accelerator": "GPU",
    "gpuClass": "standard"
  },
  "cells": [
    {
      "cell_type": "code",
      "execution_count": null,
      "metadata": {
        "id": "qM8FZtOV5uZz"
      },
      "outputs": [],
      "source": [
        "import numpy as np\n",
        "import math\n",
        "import pandas as pd\n",
        "from sklearn.model_selection import train_test_split\n",
        "from sklearn import preprocessing\n",
        "from sklearn import metrics\n",
        "\n",
        "!pip install catboost\n",
        "from catboost import CatBoostClassifier\n",
        "\n",
        "\n",
        "from google.colab import drive \n",
        "\n",
        "drive.mount('/content/drive')"
      ]
    },
    {
      "cell_type": "code",
      "source": [
        "raw_data = pd.read_csv('/content/drive/MyDrive/hacks-ai/orenburg/data/train_dataset_train.csv')"
      ],
      "metadata": {
        "id": "WHTx5V50CGpY"
      },
      "execution_count": 3,
      "outputs": []
    },
    {
      "cell_type": "code",
      "source": [
        "def digitize_strings(data, column_names):\n",
        "    for column_name in column_names:\n",
        "        values = set()\n",
        "        for value in data[column_name]:\n",
        "            if (not value in values):\n",
        "                values.add(value)\n",
        "    \n",
        "        values_codes = {}\n",
        "        index = 1\n",
        "        for value in values:\n",
        "            values_codes[value] = index\n",
        "            index += 1\n",
        "    \n",
        "        for idx, value in enumerate(data[column_name]):\n",
        "            data.at[idx, column_name] = values_codes[value]\n",
        "\n",
        "\n",
        "def digitize_dates(data, column_names):\n",
        "    for column_name in column_names:\n",
        "        for idx, value in enumerate(data[column_name]):\n",
        "            fields = value.split('/')\n",
        "            if len(fields) == 3:\n",
        "                data.at[idx, column_name] = int(fields[2]) * 365 + int(fields[1]) * 30 + int(fields[0])\n",
        "            else:\n",
        "                data.at[idx, column_name] = 0\n",
        "\n",
        "\n",
        "def calc_accuracy(y_pred, y_target):\n",
        "    count = 0\n",
        "    for index, _ in enumerate(y_pred):\n",
        "        if y_pred[index] == y_target[index]:\n",
        "            count += 1\n",
        "\n",
        "    return count/len(y_pred)\n"
      ],
      "metadata": {
        "id": "HadiCdJDtJaP"
      },
      "execution_count": 4,
      "outputs": []
    },
    {
      "cell_type": "code",
      "source": [
        "dropped_features = ['spent_time_to_complete_hw',\n",
        "                    'failed_hw',\n",
        "                    'month_id',\n",
        "                    'avg_quiz_result',\n",
        "                    'city',\n",
        "                    'hw_leader']\n",
        "                    \n",
        "\n",
        "string_features = ['promo',\n",
        "                   'country',\n",
        "                   'communication_type',\n",
        "                   'ABC',\n",
        "                   'os',\n",
        "                   'browser',\n",
        "                   'platform']\n",
        "\n",
        "date_features = ['carts_created_at']"
      ],
      "metadata": {
        "id": "5vaUposDwsWj"
      },
      "execution_count": 5,
      "outputs": []
    },
    {
      "cell_type": "code",
      "source": [
        "X = raw_data.drop(columns=dropped_features)\n",
        "X = X.drop(columns=['target'])\n",
        "digitize_strings(X, string_features)\n",
        "digitize_dates(X, date_features)\n",
        "\n",
        "y = raw_data['target']"
      ],
      "metadata": {
        "id": "jZpIS_O0Dait"
      },
      "execution_count": 6,
      "outputs": []
    },
    {
      "cell_type": "code",
      "source": [
        "X_train, X_test, y_train, y_test = train_test_split(X, y, test_size=0.3, shuffle=True, random_state=42)"
      ],
      "metadata": {
        "id": "Q_pmAEmcJaq8"
      },
      "execution_count": 7,
      "outputs": []
    },
    {
      "cell_type": "code",
      "source": [
        "model = CatBoostClassifier(iterations=17000,\n",
        "                           learning_rate=0.8, \n",
        "                           task_type='GPU',\n",
        "                           devices='0:1')"
      ],
      "metadata": {
        "id": "Fdoi35Ia1G5C"
      },
      "execution_count": 10,
      "outputs": []
    },
    {
      "cell_type": "code",
      "source": [
        "model.fit(X_train, y_train)#, save_snapshot=True, snapshot_interval=10)\n",
        "\n",
        "y_pred_train = model.predict(X_train)\n",
        "y_pred_test = model.predict(X_test)\n",
        "\n",
        "print(\"Train accuracy: \", calc_accuracy(y_pred_train, y_train.values))\n",
        "print(\"Valid accuracy:\", calc_accuracy(y_pred_test, y_test.values))\n",
        "\n",
        "print(0.2 * metrics.recall_score(y_test.values, y_pred_test, average='macro') + 0.8 * metrics.precision_score(y_test.values, y_pred_test, average='macro'))\n"
      ],
      "metadata": {
        "id": "VG4VsydY2FCp"
      },
      "execution_count": null,
      "outputs": []
    },
    {
      "cell_type": "code",
      "source": [
        "model.save_model('/content/drive/MyDrive/hacks-ai/orenburg/models/classifier_v13_catboost.cbm')"
      ],
      "metadata": {
        "id": "6eVmX65x-y-R"
      },
      "execution_count": null,
      "outputs": []
    },
    {
      "cell_type": "code",
      "source": [
        "raw_test_data = pd.read_csv('/content/drive/MyDrive/hacks-ai/orenburg/data/test_dataset_test.csv')"
      ],
      "metadata": {
        "id": "sPA5F_hV4P6M"
      },
      "execution_count": null,
      "outputs": []
    },
    {
      "cell_type": "code",
      "source": [
        "X_solution = raw_test_data.drop(columns=dropped_features)\n",
        "digitize_strings(X_solution, string_features)\n",
        "digitize_dates(X_solution, date_features)"
      ],
      "metadata": {
        "id": "LR6WWTem4gFU"
      },
      "execution_count": null,
      "outputs": []
    },
    {
      "cell_type": "code",
      "source": [
        "y_solution = model.predict(X_solution)"
      ],
      "metadata": {
        "id": "UoYClQ9QDfGv"
      },
      "execution_count": null,
      "outputs": []
    },
    {
      "cell_type": "code",
      "source": [
        "solution = raw_test_data.filter(items=['id'])\n",
        "solution['target'] = y_solution\n",
        "solution.astype(int).to_csv('/content/drive/MyDrive/hacks-ai/orenburg/solutions/solution_v13_catboost_9458-8416.csv', index=False)"
      ],
      "metadata": {
        "id": "x8C8yPfJD9db"
      },
      "execution_count": null,
      "outputs": []
    }
  ]
}